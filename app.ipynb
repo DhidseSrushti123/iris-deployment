{
 "cells": [
  {
   "cell_type": "code",
   "execution_count": 2,
   "id": "08946023",
   "metadata": {},
   "outputs": [
    {
     "ename": "SyntaxError",
     "evalue": "unterminated string literal (detected at line 19) (2432003969.py, line 19)",
     "output_type": "error",
     "traceback": [
      "\u001b[1;36m  Cell \u001b[1;32mIn[2], line 19\u001b[1;36m\u001b[0m\n\u001b[1;33m    features = [float(request.from[f'features{i}]) for i in range(1,5)\u001b[0m\n\u001b[1;37m                                   ^\u001b[0m\n\u001b[1;31mSyntaxError\u001b[0m\u001b[1;31m:\u001b[0m unterminated string literal (detected at line 19)\n"
     ]
    }
   ],
   "source": [
    "#app.py\n",
    "from flask import Flask, render_template, request\n",
    "import joblib\n",
    "import numpy as np\n",
    "\n",
    "#Initialize Flask app\n",
    "app = Flask(__name__)\n",
    "\n",
    "#Load trained model\n",
    "model = joblib.load('iris_model.pkl')\n",
    "\n",
    "@app.route('/')\n",
    "def home():\n",
    "    return render_template('home.html')\n",
    "\n",
    "@app.route('/predict', methods=['POST'])\n",
    "def predict():\n",
    "    try:\n",
    "        features = [float(request.from[f'features{i}]) for i in range(1,5)\n",
    "    except ValueError:\n",
    "         return render_template('result.html', prediction=\"Invalid input. Please enter numeric values.\")\n",
    "    prediction = model.predict([features])[0]\n",
    "    class_names = ['setosa', 'Versicolor', 'Virginica']\n",
    "    result = class_names[prediction]\n",
    "    return render_template('result.html', prediction=result) \n",
    "if__name__=='main':\n",
    "    app.run(debug=True)"
   ]
  },
  {
   "cell_type": "code",
   "execution_count": null,
   "id": "bbcf987d",
   "metadata": {},
   "outputs": [],
   "source": []
  }
 ],
 "metadata": {
  "kernelspec": {
   "display_name": "Python 3 (ipykernel)",
   "language": "python",
   "name": "python3"
  },
  "language_info": {
   "codemirror_mode": {
    "name": "ipython",
    "version": 3
   },
   "file_extension": ".py",
   "mimetype": "text/x-python",
   "name": "python",
   "nbconvert_exporter": "python",
   "pygments_lexer": "ipython3",
   "version": "3.11.5"
  }
 },
 "nbformat": 4,
 "nbformat_minor": 5
}
